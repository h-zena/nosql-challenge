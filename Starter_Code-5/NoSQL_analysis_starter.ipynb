{
 "cells": [
  {
   "cell_type": "markdown",
   "id": "9a57c4c6",
   "metadata": {},
   "source": [
    "# Eat Safe, Love"
   ]
  },
  {
   "cell_type": "markdown",
   "id": "064ef857",
   "metadata": {},
   "source": [
    "## Notebook Set Up"
   ]
  },
  {
   "cell_type": "code",
   "execution_count": 14,
   "id": "3ecdd008",
   "metadata": {},
   "outputs": [],
   "source": [
    "from pymongo import MongoClient\n",
    "import pandas as pd\n",
    "from pprint import pprint"
   ]
  },
  {
   "cell_type": "code",
   "execution_count": 15,
   "id": "59390c4a",
   "metadata": {},
   "outputs": [],
   "source": [
    "# Create an instance of MongoClient\n",
    "mongo = MongoClient(port=27017)"
   ]
  },
  {
   "cell_type": "code",
   "execution_count": 16,
   "id": "71e373c1",
   "metadata": {},
   "outputs": [],
   "source": [
    "# assign the uk_food database to a variable name\n",
    "db = mongo['uk_food']"
   ]
  },
  {
   "cell_type": "code",
   "execution_count": 17,
   "id": "18ab463c",
   "metadata": {},
   "outputs": [
    {
     "name": "stdout",
     "output_type": "stream",
     "text": [
      "['admin', 'config', 'local', 'uk_food']\n"
     ]
    }
   ],
   "source": [
    "# review the collections in our database\n",
    "\n",
    "databases = mongo.list_database_names()\n",
    "print(databases)\n"
   ]
  },
  {
   "cell_type": "code",
   "execution_count": 18,
   "id": "11c9f11b",
   "metadata": {},
   "outputs": [],
   "source": [
    "# assign the collection to a variable\n",
    "establishments = db['establishments']"
   ]
  },
  {
   "cell_type": "markdown",
   "id": "d5671434",
   "metadata": {},
   "source": [
    "## Part 3: Exploratory Analysis\n",
    "Unless otherwise stated, for each question: \n",
    "* Use `count_documents` to display the number of documents contained in the result.\n",
    "* Display the first document in the results using `pprint`.\n",
    "* Convert the result to a Pandas DataFrame, print the number of rows in the DataFrame, and display the first 10 rows."
   ]
  },
  {
   "cell_type": "markdown",
   "id": "314bd884",
   "metadata": {},
   "source": [
    "### 1. Which establishments have a hygiene score equal to 20?"
   ]
  },
  {
   "cell_type": "code",
   "execution_count": 19,
   "id": "c2da7648",
   "metadata": {},
   "outputs": [
    {
     "name": "stdout",
     "output_type": "stream",
     "text": [
      "Number of establishments with a hygiene score equal to 20: 0\n"
     ]
    }
   ],
   "source": [
    "# Find the establishments with a hygiene score of 20\n",
    "query = {\"Hygiene\": 20}\n",
    "\n",
    "# Use count_documents to display the number of documents in the result\n",
    "count = establishments.count_documents(query)\n",
    "print(\"Number of establishments with a hygiene score equal to 20:\", count)\n",
    "\n",
    "# Display the first document in the results using pprint\n",
    "if count > 0:\n",
    "    pprint(establishments.find_one(query))\n"
   ]
  },
  {
   "cell_type": "code",
   "execution_count": 20,
   "id": "a6e5cece",
   "metadata": {},
   "outputs": [
    {
     "name": "stdout",
     "output_type": "stream",
     "text": [
      "Number of rows in the DataFrame: 0\n",
      "First 10 rows of the DataFrame:\n",
      "Empty DataFrame\n",
      "Columns: []\n",
      "Index: []\n"
     ]
    }
   ],
   "source": [
    "# Convert the result to a Pandas DataFrame\n",
    "df = pd.DataFrame(list(establishments.find(query)))\n",
    "\n",
    "# Display the number of rows in the DataFrame\n",
    "print(\"Number of rows in the DataFrame:\", len(df))\n",
    "\n",
    "# Display the first 10 rows of the DataFrame\n",
    "print(\"First 10 rows of the DataFrame:\")\n",
    "print(df.head(10))\n"
   ]
  },
  {
   "cell_type": "markdown",
   "id": "0ef4395a",
   "metadata": {},
   "source": [
    "### 2. Which establishments in London have a `RatingValue` greater than or equal to 4?"
   ]
  },
  {
   "cell_type": "code",
   "execution_count": 21,
   "id": "93c63829",
   "metadata": {},
   "outputs": [
    {
     "name": "stdout",
     "output_type": "stream",
     "text": [
      "Number of establishments in London with RatingValue >= 4: 33\n",
      "{'AddressLine1': 'Oak Apple Farm Building 103 Sheernes Docks',\n",
      " 'AddressLine2': 'Sheppy Kent',\n",
      " 'AddressLine3': '',\n",
      " 'AddressLine4': '',\n",
      " 'BusinessName': \"Charlie's\",\n",
      " 'BusinessType': 'Other catering premises',\n",
      " 'BusinessTypeID': 7841,\n",
      " 'ChangesByServerID': 0,\n",
      " 'Distance': 4627.439467780196,\n",
      " 'FHRSID': 621707,\n",
      " 'Latitude': None,\n",
      " 'LocalAuthorityBusinessID': 'PI/000025307',\n",
      " 'LocalAuthorityCode': '508',\n",
      " 'LocalAuthorityEmailAddress': 'publicprotection@cityoflondon.gov.uk',\n",
      " 'LocalAuthorityName': 'City of London Corporation',\n",
      " 'LocalAuthorityWebSite': 'http://www.cityoflondon.gov.uk/Corporation/homepage.htm',\n",
      " 'Longitude': None,\n",
      " 'NewRatingPending': False,\n",
      " 'Phone': '',\n",
      " 'PostCode': 'ME12',\n",
      " 'RatingDate': '2021-10-18T00:00:00',\n",
      " 'RatingKey': 'fhrs_4_en-gb',\n",
      " 'RatingValue': 4,\n",
      " 'RightToReply': '',\n",
      " 'SchemeType': 'FHRS',\n",
      " '_id': ObjectId('65f8dc51f66ab12e097ac75f'),\n",
      " 'geocode': {'latitude': '51.369321', 'longitude': '0.508551'},\n",
      " 'links': [{'href': 'https://api.ratings.food.gov.uk/establishments/621707',\n",
      "            'rel': 'self'}],\n",
      " 'meta': {'dataSource': None,\n",
      "          'extractDate': '0001-01-01T00:00:00',\n",
      "          'itemCount': 0,\n",
      "          'pageNumber': 0,\n",
      "          'pageSize': 0,\n",
      "          'returncode': None,\n",
      "          'totalCount': 0,\n",
      "          'totalPages': 0},\n",
      " 'scores': {'ConfidenceInManagement': 5, 'Hygiene': 5, 'Structural': 10}}\n"
     ]
    }
   ],
   "source": [
    "# Find the establishments with London as the Local Authority and has a RatingValue greater than or equal to 4.\n",
    "query = {\"$and\": [{\"LocalAuthorityName\": {\"$regex\": \"London\", \"$options\": \"i\"}}, {\"RatingValue\": {\"$gte\": 4}}]}\n",
    "\n",
    "# Use count_documents to display the number of documents in the result\n",
    "count = establishments.count_documents(query)\n",
    "print(\"Number of establishments in London with RatingValue >= 4:\", count)\n",
    "\n",
    "# Display the first document in the results using pprint\n",
    "if count > 0:\n",
    "    pprint(establishments.find_one(query))"
   ]
  },
  {
   "cell_type": "code",
   "execution_count": 22,
   "id": "07e24ccb",
   "metadata": {},
   "outputs": [
    {
     "name": "stdout",
     "output_type": "stream",
     "text": [
      "Number of rows in the DataFrame: 33\n",
      "First 10 rows of the DataFrame:\n",
      "                        _id   FHRSID  ChangesByServerID  \\\n",
      "0  65f8dc51f66ab12e097ac75f   621707                  0   \n",
      "1  65f8dc51f66ab12e097aca82  1130836                  0   \n",
      "2  65f8dc51f66ab12e097ad5d0   293783                  0   \n",
      "3  65f8dc51f66ab12e097ae3d5  1315095                  0   \n",
      "4  65f8dc51f66ab12e097ae3da   294474                  0   \n",
      "5  65f8dc51f66ab12e097aeafa   294900                  0   \n",
      "6  65f8dc52f66ab12e097b0be7   293756                  0   \n",
      "7  65f8dc52f66ab12e097b0fc1   878523                  0   \n",
      "8  65f8dc52f66ab12e097b0fc7   293772                  0   \n",
      "9  65f8dc52f66ab12e097b0fc9   294606                  0   \n",
      "\n",
      "  LocalAuthorityBusinessID                          BusinessName  \\\n",
      "0             PI/000025307                             Charlie's   \n",
      "1             PI/000034075               Mv City Cruises Erasmus   \n",
      "2             PI/000002614             Benfleet Motor Yacht Club   \n",
      "3             PI/000036464  Coombs Catering t/a The Lock and Key   \n",
      "4             PI/000014647              Tilbury Seafarers Centre   \n",
      "5             PI/000019066                            Mv Valulla   \n",
      "6             PI/000002538                         Tereza Joanne   \n",
      "7             PI/000029844                      Brick Lane Brews   \n",
      "8             PI/000002585         The Nuance Group (UK) Limited   \n",
      "9             PI/000016185                              WH Smith   \n",
      "\n",
      "              BusinessType  BusinessTypeID  \\\n",
      "0  Other catering premises            7841   \n",
      "1  Other catering premises            7841   \n",
      "2  Other catering premises            7841   \n",
      "3  Restaurant/Cafe/Canteen               1   \n",
      "4  Restaurant/Cafe/Canteen               1   \n",
      "5  Other catering premises            7841   \n",
      "6  Other catering premises            7841   \n",
      "7  Restaurant/Cafe/Canteen               1   \n",
      "8        Retailers - other            4613   \n",
      "9        Retailers - other            4613   \n",
      "\n",
      "                                        AddressLine1  \\\n",
      "0         Oak Apple Farm Building 103 Sheernes Docks   \n",
      "1                                 Cherry Garden Pier   \n",
      "2                                         Ferry Road   \n",
      "3                                  Leslie Ford House   \n",
      "4                          Tenants Row Tilbury Docks   \n",
      "5  Reeds River Cruises LtdKings ReachRiver Thames...   \n",
      "6  Funcraft UK Ltd King George V Dock Woolwich Ma...   \n",
      "7                       Air side London City Airport   \n",
      "8                  Duty Free Shop Passenger Terminal   \n",
      "9                                London City Airport   \n",
      "\n",
      "                           AddressLine2 AddressLine3  ...  \\\n",
      "0                           Sheppy Kent               ...   \n",
      "1      Cherry Garden Street Rotherhithe     Charlton  ...   \n",
      "2                  South Benfleet Essex               ...   \n",
      "3                               Tilbury     Charlton  ...   \n",
      "4                         Tilbury Essex               ...   \n",
      "5                                London               ...   \n",
      "6                                London               ...   \n",
      "7                                London               ...   \n",
      "8  London City AirportRoyal DocksLondon               ...   \n",
      "9                     Silvertown London               ...   \n",
      "\n",
      "                                              scores SchemeType  \\\n",
      "0  {'Hygiene': 5, 'Structural': 10, 'ConfidenceIn...       FHRS   \n",
      "1  {'Hygiene': 0, 'Structural': 5, 'ConfidenceInM...       FHRS   \n",
      "2  {'Hygiene': 0, 'Structural': 0, 'ConfidenceInM...       FHRS   \n",
      "3  {'Hygiene': 0, 'Structural': 5, 'ConfidenceInM...       FHRS   \n",
      "4  {'Hygiene': 0, 'Structural': 0, 'ConfidenceInM...       FHRS   \n",
      "5  {'Hygiene': 0, 'Structural': 0, 'ConfidenceInM...       FHRS   \n",
      "6  {'Hygiene': 0, 'Structural': 5, 'ConfidenceInM...       FHRS   \n",
      "7  {'Hygiene': 10, 'Structural': 5, 'ConfidenceIn...       FHRS   \n",
      "8  {'Hygiene': 0, 'Structural': 0, 'ConfidenceInM...       FHRS   \n",
      "9  {'Hygiene': 0, 'Structural': 0, 'ConfidenceInM...       FHRS   \n",
      "\n",
      "                                             geocode  RightToReply  \\\n",
      "0  {'longitude': '0.508551', 'latitude': '51.3693...                 \n",
      "1  {'longitude': '0.249255999922752', 'latitude':...                 \n",
      "2  {'longitude': '0.561954', 'latitude': '51.5438...                 \n",
      "3  {'longitude': '0.346336990594864', 'latitude':...                 \n",
      "4  {'longitude': '0.346325', 'latitude': '51.4640...                 \n",
      "5  {'longitude': '0.287555', 'latitude': '51.5040...                 \n",
      "6  {'longitude': '0.069286', 'latitude': '51.5011...                 \n",
      "7  {'longitude': '0.048006', 'latitude': '51.5037...                 \n",
      "8  {'longitude': '0.047966', 'latitude': '51.5041...                 \n",
      "9  {'longitude': '0.0479655750095844', 'latitude'...                 \n",
      "\n",
      "      Distance NewRatingPending  \\\n",
      "0  4627.439468            False   \n",
      "1  4627.873179            False   \n",
      "2  4631.968418            False   \n",
      "3  4636.846754            False   \n",
      "4  4636.847650            False   \n",
      "5  4640.460834            False   \n",
      "6  4648.301822            False   \n",
      "7  4649.173485            False   \n",
      "8  4649.188826            False   \n",
      "9  4649.188850            False   \n",
      "\n",
      "                                                meta  \\\n",
      "0  {'dataSource': None, 'extractDate': '0001-01-0...   \n",
      "1  {'dataSource': None, 'extractDate': '0001-01-0...   \n",
      "2  {'dataSource': None, 'extractDate': '0001-01-0...   \n",
      "3  {'dataSource': None, 'extractDate': '0001-01-0...   \n",
      "4  {'dataSource': None, 'extractDate': '0001-01-0...   \n",
      "5  {'dataSource': None, 'extractDate': '0001-01-0...   \n",
      "6  {'dataSource': None, 'extractDate': '0001-01-0...   \n",
      "7  {'dataSource': None, 'extractDate': '0001-01-0...   \n",
      "8  {'dataSource': None, 'extractDate': '0001-01-0...   \n",
      "9  {'dataSource': None, 'extractDate': '0001-01-0...   \n",
      "\n",
      "                                               links Latitude Longitude  \n",
      "0  [{'rel': 'self', 'href': 'https://api.ratings....     None      None  \n",
      "1  [{'rel': 'self', 'href': 'http://api.ratings.f...     None      None  \n",
      "2  [{'rel': 'self', 'href': 'http://api.ratings.f...     None      None  \n",
      "3  [{'rel': 'self', 'href': 'http://api.ratings.f...     None      None  \n",
      "4  [{'rel': 'self', 'href': 'http://api.ratings.f...     None      None  \n",
      "5  [{'rel': 'self', 'href': 'http://api.ratings.f...     None      None  \n",
      "6  [{'rel': 'self', 'href': 'http://api.ratings.f...     None      None  \n",
      "7  [{'rel': 'self', 'href': 'http://api.ratings.f...     None      None  \n",
      "8  [{'rel': 'self', 'href': 'http://api.ratings.f...     None      None  \n",
      "9  [{'rel': 'self', 'href': 'http://api.ratings.f...     None      None  \n",
      "\n",
      "[10 rows x 30 columns]\n"
     ]
    }
   ],
   "source": [
    "# Convert the result to a Pandas DataFrame\n",
    "df = pd.DataFrame(list(establishments.find(query)))\n",
    "\n",
    "# Display the number of rows in the DataFrame\n",
    "print(\"Number of rows in the DataFrame:\", len(df))\n",
    "\n",
    "# Display the first 10 rows of the DataFrame\n",
    "print(\"First 10 rows of the DataFrame:\")\n",
    "print(df.head(10))"
   ]
  },
  {
   "cell_type": "markdown",
   "id": "4e570caf",
   "metadata": {},
   "source": [
    "### 3. What are the top 5 establishments with a `RatingValue` rating value of 5, sorted by lowest hygiene score, nearest to the new restaurant added, \"Penang Flavours\"?"
   ]
  },
  {
   "cell_type": "code",
   "execution_count": 30,
   "id": "7f599f3d",
   "metadata": {},
   "outputs": [
    {
     "name": "stdout",
     "output_type": "stream",
     "text": [
      "[]\n"
     ]
    }
   ],
   "source": [
    "# Search within 0.01 degree on either side of the latitude and longitude.\n",
    "degree_search = 0.01\n",
    "latitude = 51.490142\n",
    "longitude = 0.08384\n",
    "\n",
    "query = {\n",
    "    \"geocode.latitude\": {\"$gte\": latitude - degree_search, \"$lte\": latitude + degree_search},\n",
    "    \"geocode.longitude\": {\"$gte\": longitude - degree_search, \"$lte\": longitude + degree_search},\n",
    "    \"RatingValue\": 5\n",
    "}\n",
    "\n",
    "# Define the sort criteria to sort by hygiene score\n",
    "sort = [(\"scores.Hygiene\", 1)]\n",
    "\n",
    "# Limit the number of results to 5\n",
    "limit = 5\n",
    "\n",
    "results = list(establishments.find(query).sort(sort).limit(limit))\n",
    "\n",
    "# print the results\n",
    "pprint(results)\n"
   ]
  },
  {
   "cell_type": "code",
   "execution_count": 31,
   "id": "a6ad16f7",
   "metadata": {},
   "outputs": [
    {
     "name": "stdout",
     "output_type": "stream",
     "text": [
      "Empty DataFrame\n",
      "Columns: []\n",
      "Index: []\n"
     ]
    }
   ],
   "source": [
    "# Convert result to Pandas DataFrame\n",
    "import pandas as pd\n",
    "\n",
    "# Convert the cursor result to a list of dictionaries\n",
    "result_list = list(results)\n",
    "\n",
    "# Convert the list of dictionaries to a Pandas DataFrame\n",
    "df = pd.DataFrame(result_list)\n",
    "\n",
    "# Display the DataFrame\n",
    "print(df)\n"
   ]
  },
  {
   "cell_type": "markdown",
   "id": "67281254",
   "metadata": {},
   "source": [
    "### 4. How many establishments in each Local Authority area have a hygiene score of 0?"
   ]
  },
  {
   "cell_type": "code",
   "execution_count": 32,
   "id": "4eeb227e",
   "metadata": {},
   "outputs": [
    {
     "name": "stdout",
     "output_type": "stream",
     "text": [
      "Number of establishments in each Local Authority area with a hygiene score of 0:\n",
      "{'_id': 'Thanet', 'count': 1130}\n",
      "{'_id': 'Greenwich', 'count': 882}\n",
      "{'_id': 'Maidstone', 'count': 713}\n",
      "{'_id': 'Newham', 'count': 711}\n",
      "{'_id': 'Swale', 'count': 686}\n",
      "{'_id': 'Chelmsford', 'count': 680}\n",
      "{'_id': 'Medway', 'count': 672}\n",
      "{'_id': 'Bexley', 'count': 607}\n",
      "{'_id': 'Southend-On-Sea', 'count': 586}\n",
      "{'_id': 'Tendring', 'count': 542}\n"
     ]
    }
   ],
   "source": [
    "# Create a pipeline that:\n",
    "# 1. Matches establishments with a hygiene score of 0\n",
    "# 2. Groups the matches by Local Authority\n",
    "# 3. Sorts the matches from highest to lowest\n",
    "\n",
    "# Print the number of documents in the result\n",
    "pipeline = [\n",
    "    {\"$match\": {\"scores.Hygiene\": 0}},\n",
    "    {\"$group\": {\"_id\": \"$LocalAuthorityName\", \"count\": {\"$sum\": 1}}},\n",
    "    {\"$sort\": {\"count\": -1}}\n",
    "]\n",
    "\n",
    "result = list(establishments.aggregate(pipeline))\n",
    "\n",
    "print(\"Number of establishments in each Local Authority area with a hygiene score of 0:\")\n",
    "\n",
    "# print the first 10 results\n",
    "for doc in result[:10]:\n",
    "    print(doc)\n"
   ]
  },
  {
   "cell_type": "code",
   "execution_count": 33,
   "id": "d8aab364",
   "metadata": {},
   "outputs": [
    {
     "name": "stdout",
     "output_type": "stream",
     "text": [
      "Number of rows in the DataFrame: 55\n",
      "First 10 rows of the DataFrame:\n",
      "               _id  count\n",
      "0           Thanet   1130\n",
      "1        Greenwich    882\n",
      "2        Maidstone    713\n",
      "3           Newham    711\n",
      "4            Swale    686\n",
      "5       Chelmsford    680\n",
      "6           Medway    672\n",
      "7           Bexley    607\n",
      "8  Southend-On-Sea    586\n",
      "9         Tendring    542\n"
     ]
    }
   ],
   "source": [
    "# Convert the result to a Pandas DataFrame\n",
    "df = pd.DataFrame(result)\n",
    "\n",
    "# Display the number of rows in the DataFrame\n",
    "print(\"Number of rows in the DataFrame:\", len(df))\n",
    "\n",
    "# Display the first 10 rows of the DataFrame\n",
    "print(\"First 10 rows of the DataFrame:\")\n",
    "print(df.head(10))\n"
   ]
  },
  {
   "cell_type": "code",
   "execution_count": null,
   "id": "4803e1b6",
   "metadata": {},
   "outputs": [],
   "source": []
  }
 ],
 "metadata": {
  "kernelspec": {
   "display_name": "Python 3 (ipykernel)",
   "language": "python",
   "name": "python3"
  },
  "language_info": {
   "codemirror_mode": {
    "name": "ipython",
    "version": 3
   },
   "file_extension": ".py",
   "mimetype": "text/x-python",
   "name": "python",
   "nbconvert_exporter": "python",
   "pygments_lexer": "ipython3",
   "version": "3.11.5"
  }
 },
 "nbformat": 4,
 "nbformat_minor": 5
}
